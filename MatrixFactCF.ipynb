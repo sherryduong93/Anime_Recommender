{
 "cells": [
  {
   "cell_type": "code",
   "execution_count": 2,
   "metadata": {},
   "outputs": [],
   "source": [
    "import numpy as np\n",
    "import pandas as pd\n",
    "import matplotlib.pyplot as plt\n",
    "%matplotlib inline\n",
    "plt.style.use('ggplot')\n",
    "import seaborn as sns\n",
    "pd.set_option('display.max_columns', None)\n",
    "import os\n",
    "from sklearn.model_selection import train_test_split\n",
    "from sklearn.metrics import mean_squared_error\n",
    "from src.data_funcs import *\n",
    "from src.model_funcs import *"
   ]
  },
  {
   "cell_type": "code",
   "execution_count": 3,
   "metadata": {},
   "outputs": [],
   "source": [
    "anime_df = pd.read_csv('data/anime.csv')\n",
    "rating_df = pd.read_csv('data/rating.csv')\n",
    "anime_meta = pd.read_csv('data/AnimeList_meta.csv')\n",
    "users_meta = pd.read_csv('data/UserList_Meta.csv')"
   ]
  },
  {
   "cell_type": "markdown",
   "metadata": {},
   "source": [
    "## Model Based Matrix Factorization Recommenders System"
   ]
  },
  {
   "cell_type": "code",
   "execution_count": 177,
   "metadata": {},
   "outputs": [
    {
     "data": {
      "text/html": [
       "<div>\n",
       "<style scoped>\n",
       "    .dataframe tbody tr th:only-of-type {\n",
       "        vertical-align: middle;\n",
       "    }\n",
       "\n",
       "    .dataframe tbody tr th {\n",
       "        vertical-align: top;\n",
       "    }\n",
       "\n",
       "    .dataframe thead th {\n",
       "        text-align: right;\n",
       "    }\n",
       "</style>\n",
       "<table border=\"1\" class=\"dataframe\">\n",
       "  <thead>\n",
       "    <tr style=\"text-align: right;\">\n",
       "      <th></th>\n",
       "      <th>user_id</th>\n",
       "      <th>anime_id</th>\n",
       "      <th>rating</th>\n",
       "    </tr>\n",
       "  </thead>\n",
       "  <tbody>\n",
       "    <tr>\n",
       "      <td>47</td>\n",
       "      <td>1</td>\n",
       "      <td>8074</td>\n",
       "      <td>10</td>\n",
       "    </tr>\n",
       "    <tr>\n",
       "      <td>81</td>\n",
       "      <td>1</td>\n",
       "      <td>11617</td>\n",
       "      <td>10</td>\n",
       "    </tr>\n",
       "    <tr>\n",
       "      <td>83</td>\n",
       "      <td>1</td>\n",
       "      <td>11757</td>\n",
       "      <td>10</td>\n",
       "    </tr>\n",
       "    <tr>\n",
       "      <td>101</td>\n",
       "      <td>1</td>\n",
       "      <td>15451</td>\n",
       "      <td>10</td>\n",
       "    </tr>\n",
       "    <tr>\n",
       "      <td>156</td>\n",
       "      <td>3</td>\n",
       "      <td>20</td>\n",
       "      <td>8</td>\n",
       "    </tr>\n",
       "    <tr>\n",
       "      <td>...</td>\n",
       "      <td>...</td>\n",
       "      <td>...</td>\n",
       "      <td>...</td>\n",
       "    </tr>\n",
       "    <tr>\n",
       "      <td>7813730</td>\n",
       "      <td>73515</td>\n",
       "      <td>13659</td>\n",
       "      <td>8</td>\n",
       "    </tr>\n",
       "    <tr>\n",
       "      <td>7813731</td>\n",
       "      <td>73515</td>\n",
       "      <td>14345</td>\n",
       "      <td>7</td>\n",
       "    </tr>\n",
       "    <tr>\n",
       "      <td>7813732</td>\n",
       "      <td>73515</td>\n",
       "      <td>16512</td>\n",
       "      <td>7</td>\n",
       "    </tr>\n",
       "    <tr>\n",
       "      <td>7813733</td>\n",
       "      <td>73515</td>\n",
       "      <td>17187</td>\n",
       "      <td>9</td>\n",
       "    </tr>\n",
       "    <tr>\n",
       "      <td>7813734</td>\n",
       "      <td>73515</td>\n",
       "      <td>22145</td>\n",
       "      <td>10</td>\n",
       "    </tr>\n",
       "  </tbody>\n",
       "</table>\n",
       "<p>6329802 rows × 3 columns</p>\n",
       "</div>"
      ],
      "text/plain": [
       "         user_id  anime_id  rating\n",
       "47             1      8074      10\n",
       "81             1     11617      10\n",
       "83             1     11757      10\n",
       "101            1     15451      10\n",
       "156            3        20       8\n",
       "...          ...       ...     ...\n",
       "7813730    73515     13659       8\n",
       "7813731    73515     14345       7\n",
       "7813732    73515     16512       7\n",
       "7813733    73515     17187       9\n",
       "7813734    73515     22145      10\n",
       "\n",
       "[6329802 rows x 3 columns]"
      ]
     },
     "execution_count": 177,
     "metadata": {},
     "output_type": "execute_result"
    }
   ],
   "source": [
    "filt = rating_df.groupby('user_id').count()['rating']\n",
    "user_ids = filt[filt>2].reset_index()['user_id'].values\n",
    "over_2_df = rating_df[rating_df['user_id'].isin(user_ids)]\n",
    "remaining_df = rating_df[~rating_df['user_id'].isin(user_ids)]\n",
    "over_2_df.groupby('user_id').count()['rating'].sort_values()\n",
    "over_2_df"
   ]
  },
  {
   "cell_type": "markdown",
   "metadata": {},
   "source": [
    "## Train Test Split"
   ]
  },
  {
   "cell_type": "code",
   "execution_count": 178,
   "metadata": {},
   "outputs": [],
   "source": [
    "y=over_2_df['user_id']\n",
    "X=over_2_df.drop(columns=['user_id'])\n",
    "anime_train, anime_test, user_train, user_test = train_test_split(X, y, test_size = 0.25, random_state = 0, stratify=y)"
   ]
  },
  {
   "cell_type": "code",
   "execution_count": 179,
   "metadata": {},
   "outputs": [
    {
     "name": "stderr",
     "output_type": "stream",
     "text": [
      "/Users/sherryduong/anaconda3/lib/python3.7/site-packages/ipykernel_launcher.py:2: FutureWarning: Sorting because non-concatenation axis is not aligned. A future version\n",
      "of pandas will change to not sort by default.\n",
      "\n",
      "To accept the future behavior, pass 'sort=False'.\n",
      "\n",
      "To retain the current behavior and silence the warning, pass 'sort=True'.\n",
      "\n",
      "  \n"
     ]
    },
    {
     "data": {
      "text/html": [
       "<div>\n",
       "<style scoped>\n",
       "    .dataframe tbody tr th:only-of-type {\n",
       "        vertical-align: middle;\n",
       "    }\n",
       "\n",
       "    .dataframe tbody tr th {\n",
       "        vertical-align: top;\n",
       "    }\n",
       "\n",
       "    .dataframe thead th {\n",
       "        text-align: right;\n",
       "    }\n",
       "</style>\n",
       "<table border=\"1\" class=\"dataframe\">\n",
       "  <thead>\n",
       "    <tr style=\"text-align: right;\">\n",
       "      <th></th>\n",
       "      <th>anime_id</th>\n",
       "      <th>rating</th>\n",
       "      <th>user_id</th>\n",
       "    </tr>\n",
       "  </thead>\n",
       "  <tbody>\n",
       "    <tr>\n",
       "      <td>6381259</td>\n",
       "      <td>199</td>\n",
       "      <td>8</td>\n",
       "      <td>59188</td>\n",
       "    </tr>\n",
       "    <tr>\n",
       "      <td>3843912</td>\n",
       "      <td>31704</td>\n",
       "      <td>7</td>\n",
       "      <td>35976</td>\n",
       "    </tr>\n",
       "    <tr>\n",
       "      <td>3658105</td>\n",
       "      <td>18897</td>\n",
       "      <td>8</td>\n",
       "      <td>34222</td>\n",
       "    </tr>\n",
       "    <tr>\n",
       "      <td>3560929</td>\n",
       "      <td>1250</td>\n",
       "      <td>7</td>\n",
       "      <td>32998</td>\n",
       "    </tr>\n",
       "    <tr>\n",
       "      <td>3113278</td>\n",
       "      <td>2476</td>\n",
       "      <td>9</td>\n",
       "      <td>28781</td>\n",
       "    </tr>\n",
       "    <tr>\n",
       "      <td>...</td>\n",
       "      <td>...</td>\n",
       "      <td>...</td>\n",
       "      <td>...</td>\n",
       "    </tr>\n",
       "    <tr>\n",
       "      <td>7813057</td>\n",
       "      <td>6880</td>\n",
       "      <td>8</td>\n",
       "      <td>73505</td>\n",
       "    </tr>\n",
       "    <tr>\n",
       "      <td>7813341</td>\n",
       "      <td>199</td>\n",
       "      <td>10</td>\n",
       "      <td>73509</td>\n",
       "    </tr>\n",
       "    <tr>\n",
       "      <td>7813538</td>\n",
       "      <td>512</td>\n",
       "      <td>10</td>\n",
       "      <td>73514</td>\n",
       "    </tr>\n",
       "    <tr>\n",
       "      <td>7813735</td>\n",
       "      <td>790</td>\n",
       "      <td>9</td>\n",
       "      <td>73516</td>\n",
       "    </tr>\n",
       "    <tr>\n",
       "      <td>7813736</td>\n",
       "      <td>8074</td>\n",
       "      <td>9</td>\n",
       "      <td>73516</td>\n",
       "    </tr>\n",
       "  </tbody>\n",
       "</table>\n",
       "<p>4754790 rows × 3 columns</p>\n",
       "</div>"
      ],
      "text/plain": [
       "         anime_id  rating  user_id\n",
       "6381259       199       8    59188\n",
       "3843912     31704       7    35976\n",
       "3658105     18897       8    34222\n",
       "3560929      1250       7    32998\n",
       "3113278      2476       9    28781\n",
       "...           ...     ...      ...\n",
       "7813057      6880       8    73505\n",
       "7813341       199      10    73509\n",
       "7813538       512      10    73514\n",
       "7813735       790       9    73516\n",
       "7813736      8074       9    73516\n",
       "\n",
       "[4754790 rows x 3 columns]"
      ]
     },
     "execution_count": 179,
     "metadata": {},
     "output_type": "execute_result"
    }
   ],
   "source": [
    "train_over2_split = pd.concat([anime_train, user_train],axis=1)\n",
    "train = pd.concat([train_over2_split, remaining_df], axis=0)\n",
    "train"
   ]
  },
  {
   "cell_type": "code",
   "execution_count": 180,
   "metadata": {},
   "outputs": [
    {
     "data": {
      "text/html": [
       "<div>\n",
       "<style scoped>\n",
       "    .dataframe tbody tr th:only-of-type {\n",
       "        vertical-align: middle;\n",
       "    }\n",
       "\n",
       "    .dataframe tbody tr th {\n",
       "        vertical-align: top;\n",
       "    }\n",
       "\n",
       "    .dataframe thead th {\n",
       "        text-align: right;\n",
       "    }\n",
       "</style>\n",
       "<table border=\"1\" class=\"dataframe\">\n",
       "  <thead>\n",
       "    <tr style=\"text-align: right;\">\n",
       "      <th></th>\n",
       "      <th>anime_id</th>\n",
       "      <th>rating</th>\n",
       "      <th>user_id</th>\n",
       "    </tr>\n",
       "  </thead>\n",
       "  <tbody>\n",
       "    <tr>\n",
       "      <td>3228697</td>\n",
       "      <td>21437</td>\n",
       "      <td>7</td>\n",
       "      <td>29831</td>\n",
       "    </tr>\n",
       "    <tr>\n",
       "      <td>393203</td>\n",
       "      <td>1723</td>\n",
       "      <td>10</td>\n",
       "      <td>4063</td>\n",
       "    </tr>\n",
       "    <tr>\n",
       "      <td>464724</td>\n",
       "      <td>3712</td>\n",
       "      <td>8</td>\n",
       "      <td>4787</td>\n",
       "    </tr>\n",
       "    <tr>\n",
       "      <td>1542021</td>\n",
       "      <td>527</td>\n",
       "      <td>10</td>\n",
       "      <td>14884</td>\n",
       "    </tr>\n",
       "    <tr>\n",
       "      <td>1252512</td>\n",
       "      <td>20159</td>\n",
       "      <td>6</td>\n",
       "      <td>11837</td>\n",
       "    </tr>\n",
       "    <tr>\n",
       "      <td>...</td>\n",
       "      <td>...</td>\n",
       "      <td>...</td>\n",
       "      <td>...</td>\n",
       "    </tr>\n",
       "    <tr>\n",
       "      <td>1700046</td>\n",
       "      <td>635</td>\n",
       "      <td>8</td>\n",
       "      <td>16458</td>\n",
       "    </tr>\n",
       "    <tr>\n",
       "      <td>3363340</td>\n",
       "      <td>440</td>\n",
       "      <td>9</td>\n",
       "      <td>30972</td>\n",
       "    </tr>\n",
       "    <tr>\n",
       "      <td>1657553</td>\n",
       "      <td>14289</td>\n",
       "      <td>7</td>\n",
       "      <td>16106</td>\n",
       "    </tr>\n",
       "    <tr>\n",
       "      <td>5523090</td>\n",
       "      <td>59</td>\n",
       "      <td>10</td>\n",
       "      <td>51976</td>\n",
       "    </tr>\n",
       "    <tr>\n",
       "      <td>2830848</td>\n",
       "      <td>16444</td>\n",
       "      <td>7</td>\n",
       "      <td>26511</td>\n",
       "    </tr>\n",
       "  </tbody>\n",
       "</table>\n",
       "<p>1582451 rows × 3 columns</p>\n",
       "</div>"
      ],
      "text/plain": [
       "         anime_id  rating  user_id\n",
       "3228697     21437       7    29831\n",
       "393203       1723      10     4063\n",
       "464724       3712       8     4787\n",
       "1542021       527      10    14884\n",
       "1252512     20159       6    11837\n",
       "...           ...     ...      ...\n",
       "1700046       635       8    16458\n",
       "3363340       440       9    30972\n",
       "1657553     14289       7    16106\n",
       "5523090        59      10    51976\n",
       "2830848     16444       7    26511\n",
       "\n",
       "[1582451 rows x 3 columns]"
      ]
     },
     "execution_count": 180,
     "metadata": {},
     "output_type": "execute_result"
    }
   ],
   "source": [
    "test = pd.concat([anime_test, user_test],axis=1)\n",
    "test"
   ]
  },
  {
   "cell_type": "markdown",
   "metadata": {},
   "source": [
    "## Using Spark ALS"
   ]
  },
  {
   "cell_type": "code",
   "execution_count": 186,
   "metadata": {},
   "outputs": [],
   "source": [
    "from pyspark.sql import SparkSession\n",
    "\n",
    "# Setup a SparkSession\n",
    "spark = SparkSession.builder.getOrCreate()\n",
    "\n",
    "# Convert a Pandas DF to a Spark DF\n",
    "#spark_df = spark.createDataFrame(pandas_df) \n",
    "\n",
    "# Convert a Spark DF to a Pandas DF\n",
    "#pandas_df = spark_df.toPandas()"
   ]
  },
  {
   "cell_type": "code",
   "execution_count": 187,
   "metadata": {},
   "outputs": [],
   "source": [
    "train_spark = spark.createDataFrame(train)\n",
    "test_spark = spark.createDataFrame(test)\n",
    "#Note to self: Add some cross validation"
   ]
  },
  {
   "cell_type": "code",
   "execution_count": 219,
   "metadata": {},
   "outputs": [
    {
     "data": {
      "text/plain": [
       "ALS_9b3bd4d65bd4"
      ]
     },
     "execution_count": 219,
     "metadata": {},
     "output_type": "execute_result"
    }
   ],
   "source": [
    "from pyspark.ml.recommendation import ALS\n",
    "als_model = ALS(\n",
    "    itemCol='anime_id',\n",
    "    userCol='user_id',\n",
    "    ratingCol='rating',\n",
    "    nonnegative=True,    \n",
    "    regParam=0.1,\n",
    "    rank=10) \n",
    "als_model.setColdStartStrategy(\"drop\")"
   ]
  },
  {
   "cell_type": "code",
   "execution_count": 220,
   "metadata": {},
   "outputs": [],
   "source": [
    "recommender = als_model.fit(train_spark)"
   ]
  },
  {
   "cell_type": "code",
   "execution_count": 221,
   "metadata": {},
   "outputs": [
    {
     "data": {
      "text/plain": [
       "0"
      ]
     },
     "execution_count": 221,
     "metadata": {},
     "output_type": "execute_result"
    }
   ],
   "source": [
    "os.system(\"say 'cao ni ma'\") "
   ]
  },
  {
   "cell_type": "code",
   "execution_count": 222,
   "metadata": {},
   "outputs": [
    {
     "data": {
      "text/plain": [
       "0"
      ]
     },
     "execution_count": 222,
     "metadata": {},
     "output_type": "execute_result"
    }
   ],
   "source": [
    "predictions = recommender.transform(test_spark)"
   ]
  },
  {
   "cell_type": "code",
   "execution_count": 223,
   "metadata": {},
   "outputs": [
    {
     "name": "stdout",
     "output_type": "stream",
     "text": [
      "+--------+------+-------+----------+\n",
      "|anime_id|rating|user_id|prediction|\n",
      "+--------+------+-------+----------+\n",
      "|     148|     6|  49607| 6.2774863|\n",
      "|     148|     4|  49405| 5.9500914|\n",
      "|     148|     7|  57661|  7.069685|\n",
      "|     148|     7|  49418|  6.751053|\n",
      "|     148|     7|    916|  6.811444|\n",
      "|     148|    10|   7266|   7.09548|\n",
      "|     148|     8|  11493| 6.5894094|\n",
      "|     148|     4|  12431| 4.6443233|\n",
      "|     148|     7|  55121|  6.000699|\n",
      "|     148|    10|   6223|  8.358974|\n",
      "|     148|     6|  61257| 6.5924067|\n",
      "|     148|     8|  58606| 7.2540507|\n",
      "|     148|     2|   1497|  6.046259|\n",
      "|     148|     7|  61445| 6.9690657|\n",
      "|     148|     8|  13341| 6.7941628|\n",
      "|     148|     7|  59311|  7.173847|\n",
      "|     148|     6|  19994| 6.4708133|\n",
      "|     148|     7|  41536| 6.2356434|\n",
      "|     148|     4|  58142|    7.0969|\n",
      "|     148|     6|  30476|  6.423863|\n",
      "+--------+------+-------+----------+\n",
      "only showing top 20 rows\n",
      "\n"
     ]
    }
   ],
   "source": [
    "predictions.show()\n",
    "os.system(\"say 'Complete'\") "
   ]
  },
  {
   "cell_type": "code",
   "execution_count": 224,
   "metadata": {},
   "outputs": [
    {
     "data": {
      "text/html": [
       "<div>\n",
       "<style scoped>\n",
       "    .dataframe tbody tr th:only-of-type {\n",
       "        vertical-align: middle;\n",
       "    }\n",
       "\n",
       "    .dataframe tbody tr th {\n",
       "        vertical-align: top;\n",
       "    }\n",
       "\n",
       "    .dataframe thead th {\n",
       "        text-align: right;\n",
       "    }\n",
       "</style>\n",
       "<table border=\"1\" class=\"dataframe\">\n",
       "  <thead>\n",
       "    <tr style=\"text-align: right;\">\n",
       "      <th></th>\n",
       "      <th>anime_id</th>\n",
       "      <th>rating</th>\n",
       "      <th>user_id</th>\n",
       "      <th>prediction</th>\n",
       "    </tr>\n",
       "  </thead>\n",
       "  <tbody>\n",
       "    <tr>\n",
       "      <td>0</td>\n",
       "      <td>148</td>\n",
       "      <td>6</td>\n",
       "      <td>49607</td>\n",
       "      <td>6.277486</td>\n",
       "    </tr>\n",
       "    <tr>\n",
       "      <td>1</td>\n",
       "      <td>148</td>\n",
       "      <td>4</td>\n",
       "      <td>49405</td>\n",
       "      <td>5.950091</td>\n",
       "    </tr>\n",
       "    <tr>\n",
       "      <td>2</td>\n",
       "      <td>148</td>\n",
       "      <td>7</td>\n",
       "      <td>57661</td>\n",
       "      <td>7.069685</td>\n",
       "    </tr>\n",
       "    <tr>\n",
       "      <td>3</td>\n",
       "      <td>148</td>\n",
       "      <td>7</td>\n",
       "      <td>49418</td>\n",
       "      <td>6.751053</td>\n",
       "    </tr>\n",
       "    <tr>\n",
       "      <td>4</td>\n",
       "      <td>148</td>\n",
       "      <td>7</td>\n",
       "      <td>916</td>\n",
       "      <td>6.811444</td>\n",
       "    </tr>\n",
       "    <tr>\n",
       "      <td>...</td>\n",
       "      <td>...</td>\n",
       "      <td>...</td>\n",
       "      <td>...</td>\n",
       "      <td>...</td>\n",
       "    </tr>\n",
       "    <tr>\n",
       "      <td>1582153</td>\n",
       "      <td>33372</td>\n",
       "      <td>7</td>\n",
       "      <td>35486</td>\n",
       "      <td>6.959330</td>\n",
       "    </tr>\n",
       "    <tr>\n",
       "      <td>1582154</td>\n",
       "      <td>33372</td>\n",
       "      <td>7</td>\n",
       "      <td>72872</td>\n",
       "      <td>6.631885</td>\n",
       "    </tr>\n",
       "    <tr>\n",
       "      <td>1582155</td>\n",
       "      <td>33372</td>\n",
       "      <td>7</td>\n",
       "      <td>39039</td>\n",
       "      <td>7.066941</td>\n",
       "    </tr>\n",
       "    <tr>\n",
       "      <td>1582156</td>\n",
       "      <td>33372</td>\n",
       "      <td>9</td>\n",
       "      <td>71196</td>\n",
       "      <td>6.825010</td>\n",
       "    </tr>\n",
       "    <tr>\n",
       "      <td>1582157</td>\n",
       "      <td>33372</td>\n",
       "      <td>6</td>\n",
       "      <td>54080</td>\n",
       "      <td>6.218474</td>\n",
       "    </tr>\n",
       "  </tbody>\n",
       "</table>\n",
       "<p>1582158 rows × 4 columns</p>\n",
       "</div>"
      ],
      "text/plain": [
       "         anime_id  rating  user_id  prediction\n",
       "0             148       6    49607    6.277486\n",
       "1             148       4    49405    5.950091\n",
       "2             148       7    57661    7.069685\n",
       "3             148       7    49418    6.751053\n",
       "4             148       7      916    6.811444\n",
       "...           ...     ...      ...         ...\n",
       "1582153     33372       7    35486    6.959330\n",
       "1582154     33372       7    72872    6.631885\n",
       "1582155     33372       7    39039    7.066941\n",
       "1582156     33372       9    71196    6.825010\n",
       "1582157     33372       6    54080    6.218474\n",
       "\n",
       "[1582158 rows x 4 columns]"
      ]
     },
     "execution_count": 224,
     "metadata": {},
     "output_type": "execute_result"
    }
   ],
   "source": [
    "predictions_df = predictions.toPandas()\n",
    "predictions_df"
   ]
  },
  {
   "cell_type": "code",
   "execution_count": 225,
   "metadata": {},
   "outputs": [
    {
     "data": {
      "text/plain": [
       "anime_id      0\n",
       "rating        0\n",
       "user_id       0\n",
       "prediction    0\n",
       "dtype: int64"
      ]
     },
     "execution_count": 225,
     "metadata": {},
     "output_type": "execute_result"
    }
   ],
   "source": [
    "predictions_df.isnull().sum()"
   ]
  },
  {
   "cell_type": "code",
   "execution_count": 226,
   "metadata": {},
   "outputs": [
    {
     "data": {
      "text/plain": [
       "1.1653227752840312"
      ]
     },
     "execution_count": 226,
     "metadata": {},
     "output_type": "execute_result"
    }
   ],
   "source": [
    "rmse = np.sqrt(mean_squared_error(predictions_df['rating'],predictions_df['prediction']))\n",
    "rmse"
   ]
  },
  {
   "cell_type": "markdown",
   "metadata": {},
   "source": [
    "## Surprise Package"
   ]
  },
  {
   "cell_type": "code",
   "execution_count": 198,
   "metadata": {},
   "outputs": [],
   "source": [
    "from surprise import SVDpp, NormalPredictor, Dataset, Reader, accuracy\n",
    "from surprise import KNNBaseline, NMF, SVD\n",
    "from surprise.model_selection import KFold, cross_validate, GridSearchCV, train_test_split"
   ]
  },
  {
   "cell_type": "code",
   "execution_count": 227,
   "metadata": {},
   "outputs": [],
   "source": [
    "reader = Reader(rating_scale=(1, 10))\n",
    "all_data = Dataset.load_from_df(rating_df, reader)\n",
    "train_surprise = Dataset.load_from_df(train, reader)\n",
    "test_surprise = Dataset.load_from_df(test, reader)"
   ]
  },
  {
   "cell_type": "code",
   "execution_count": 228,
   "metadata": {},
   "outputs": [
    {
     "name": "stdout",
     "output_type": "stream",
     "text": [
      "RMSE: 42352.0111\n",
      "RMSE: 42312.8853\n",
      "RMSE: 42306.0748\n"
     ]
    }
   ],
   "source": [
    "kf = KFold(n_splits=3)\n",
    "\n",
    "algo = SVD()\n",
    "\n",
    "for trainset, testset in kf.split(train_surprise):\n",
    "\n",
    "    # train and test algorithm.\n",
    "    algo.fit(trainset)\n",
    "    preds_surprise = algo.test(testset)\n",
    "\n",
    "    # Compute and print Root Mean Squared Error\n",
    "    accuracy.rmse(preds_surprise, verbose=True)"
   ]
  },
  {
   "cell_type": "code",
   "execution_count": 229,
   "metadata": {},
   "outputs": [
    {
     "data": {
      "text/plain": [
       "0"
      ]
     },
     "execution_count": 229,
     "metadata": {},
     "output_type": "execute_result"
    }
   ],
   "source": [
    "os.system(\"say 'Model Complete'\") "
   ]
  },
  {
   "cell_type": "code",
   "execution_count": null,
   "metadata": {},
   "outputs": [],
   "source": [
    "from collections import defaultdict\n",
    "\n",
    "def get_top_n(predictions, n=10):\n",
    "    '''Return the top-N recommendation for each user from a set of predictions.\n",
    "\n",
    "    Args:\n",
    "        predictions(list of Prediction objects): The list of predictions, as\n",
    "            returned by the test method of an algorithm.\n",
    "        n(int): The number of recommendation to output for each user. Default\n",
    "            is 10.\n",
    "\n",
    "    Returns:\n",
    "    A dict where keys are user (raw) ids and values are lists of tuples:\n",
    "        [(raw item id, rating estimation), ...] of size n.\n",
    "    '''\n",
    "\n",
    "    # First map the predictions to each user.\n",
    "    top_n = defaultdict(list)\n",
    "    for uid, iid, true_r, est, _ in predictions:\n",
    "        top_n[uid].append((iid, est))\n",
    "\n",
    "    # Then sort the predictions for each user and retrieve the k highest ones.\n",
    "    for uid, user_ratings in top_n.items():\n",
    "        user_ratings.sort(key=lambda x: x[1], reverse=True)\n",
    "        top_n[uid] = user_ratings[:n]\n",
    "\n",
    "    return top_n\n",
    "\n",
    "top_n = get_top_n(predictions, n=10)\n",
    "\n",
    "# Print the recommended items for each user\n",
    "for uid, user_ratings in top_n.items():\n",
    "    print(uid, [iid for (iid, _) in user_ratings])"
   ]
  },
  {
   "cell_type": "code",
   "execution_count": null,
   "metadata": {},
   "outputs": [],
   "source": []
  }
 ],
 "metadata": {
  "kernelspec": {
   "display_name": "Python 3",
   "language": "python",
   "name": "python3"
  },
  "language_info": {
   "codemirror_mode": {
    "name": "ipython",
    "version": 3
   },
   "file_extension": ".py",
   "mimetype": "text/x-python",
   "name": "python",
   "nbconvert_exporter": "python",
   "pygments_lexer": "ipython3",
   "version": "3.7.6"
  },
  "toc": {
   "base_numbering": 1,
   "nav_menu": {},
   "number_sections": true,
   "sideBar": true,
   "skip_h1_title": false,
   "title_cell": "Table of Contents",
   "title_sidebar": "Contents",
   "toc_cell": false,
   "toc_position": {},
   "toc_section_display": true,
   "toc_window_display": false
  }
 },
 "nbformat": 4,
 "nbformat_minor": 4
}
