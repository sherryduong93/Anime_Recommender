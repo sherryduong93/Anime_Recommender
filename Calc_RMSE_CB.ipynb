{
 "cells": [
  {
   "cell_type": "code",
   "execution_count": 1,
   "metadata": {},
   "outputs": [],
   "source": [
    "import boto3\n",
    "import pandas as pd\n",
    "from sagemaker import get_execution_role\n",
    "import numpy as np\n",
    "from sklearn.feature_extraction.text import CountVectorizer\n",
    "from sklearn.metrics.pairwise import cosine_similarity\n",
    "from sklearn.metrics.pairwise import pairwise_distances\n",
    "from sklearn.model_selection import train_test_split\n",
    "from sklearn.metrics import mean_squared_error\n",
    "\n",
    "role = 'AmazonSageMaker-ExecutionRole-20200524T114773'\n",
    "\n",
    "anime_df = pd.read_csv('s3://animerec/Anime_Recommender/data/anime.csv')\n",
    "rating_df = pd.read_csv('s3://animerec/Anime_Recommender/data/rating.csv')\n",
    "#Remove the -1's, which are no values for the ratings\n",
    "rating_df = rating_df[rating_df['rating']!=-1]\n",
    "anime_meta = pd.read_csv('s3://animerec/Anime_Recommender/data/AnimeList_Meta.csv')\n",
    "users_meta = pd.read_csv('s3://animerec/Anime_Recommender/data/UserList_Meta.csv')"
   ]
  },
  {
   "cell_type": "code",
   "execution_count": 2,
   "metadata": {},
   "outputs": [],
   "source": [
    "def weighted_rating(x,rating_count_col, avg_rating_col):\n",
    "    m = x[rating_count_col].quantile(0.80)\n",
    "    C = x[avg_rating_col].mean()\n",
    "    v = x[rating_count_col]\n",
    "    R = x[avg_rating_col]\n",
    "    # Compute the weighted score\n",
    "    return (v/(v+m) * R) + (m/(m+v) * C)\n",
    "\n",
    "\n",
    "def full_anime_df(rating_df, anime_df, anime_meta):\n",
    "    #Get the total number of ratings per anime\n",
    "    count_ratings = rating_df.groupby('anime_id').count().rename(columns={'rating': 'num_ratings'})['num_ratings']\n",
    "    \n",
    "    #Combine the meta data with the anime data, and rating data\n",
    "    anime_full = anime_df.merge(right=anime_meta, how='left', on='anime_id')\n",
    "    anime_full = anime_full.merge(right=count_ratings, how='left', on='anime_id')\n",
    "    anime_full = anime_full.drop(columns=['title','title_japanese','title_synonyms', 'type_x',\n",
    "                                      'episodes_y', 'airing', 'score','scored_by', 'members_y', 'background',\n",
    "                                     'licensor', 'premiered', 'broadcast', 'related', 'genre_x', 'aired_string'])\n",
    "    anime_full = anime_full.rename(columns={'rating_x': 'avg_rating','rating_y': 'rating_type', 'genre_y':'genre', \n",
    "                                        'members_x': 'members', 'episodes_x':'episodes', 'type_y':'type', 0: 'weighted_rating'})\n",
    "    anime_full = pd.concat([anime_full, weighted_rating(anime_full, 'members','avg_rating')], axis=1)\n",
    "    anime_full = anime_full.rename(columns={0: 'weighted_rating'})\n",
    "    \n",
    "    #Shortening the rating type categories\n",
    "    rating_type_dict = {'PG-13 - Teens 13 or older': 'PG-13', 'R - 17+ (violence & profanity)': 'R',\n",
    "                   'PG - Children': 'PG', 'G - All Ages': 'G', 'R+ - Mild Nudity': 'R+', \n",
    "                   'Rx - Hentai':'RX', 'None': 'Unknown'}\n",
    "    anime_full['rating_type'] = anime_full['rating_type'].map(rating_type_dict).fillna('Unknown')\n",
    "    \n",
    "    #Filling NaNs\n",
    "    anime_full['genre'] = anime_full['genre'].fillna('Unknown')\n",
    "    anime_full['studio'] = anime_full['studio'].fillna('Unknown')\n",
    "    anime_full['producer'] = anime_full['producer'].fillna('Unknown')\n",
    "    \n",
    "    #Formatting the anime titles\n",
    "    anime_full['name'] = anime_full['name'].str.title()\n",
    "    anime_full['title_english'] = anime_full['title_english'].str.title()\n",
    "    return anime_full\n",
    "\n",
    "\n",
    "def sim_mat(anime_full, ver='basic'):\n",
    "    '''\n",
    "    Returns similarity matrix with cosine similarity based on the anime_dataframe provided\n",
    "\n",
    "    INPUT - \n",
    "    anime_full: Formatted anime dataframe using the full_anime_df function, size (nxm)\n",
    "    ver: version of similarity matrix available, select from:\n",
    "        basic: \n",
    "        genre: The above + Genre based similarity\n",
    "        adv: genre + popular studio & producer \n",
    "    \n",
    "    OUTPUT -\n",
    "    dataframe containing the similaries between each anime in anime_full, size (nxn)\n",
    "    '''\n",
    "    if ver=='basic':\n",
    "        basic_rec = anime_full[['anime_id','type','source','rating_type']] #removed 'weighted_rating' to test\n",
    "        basic_rec = pd.get_dummies(basic_rec, columns=['type','source','rating_type']).set_index('anime_id')\n",
    "        # basic_rec = basic_rec.dropna(axis=0, subset=['weighted_rating']) \n",
    "        anime_similarity_cos = cosine_similarity(basic_rec)\n",
    "        anime_similarity_cosdf = pd.DataFrame(anime_similarity_cos, index=basic_rec.T.columns, columns=basic_rec.T.columns)\n",
    "        return anime_similarity_cosdf\n",
    "    elif ver=='genre':\n",
    "        ContBased_2 = anime_full[['anime_id','type','source','rating_type','weighted_rating']]\n",
    "        vect = CountVectorizer()\n",
    "        count_vect = vect.fit_transform(anime_full['genre'])\n",
    "        features = vect.get_feature_names()\n",
    "        genre_matrix = count_vect.toarray()\n",
    "        genre_df = pd.DataFrame(genre_matrix, columns =features, index=anime_full['anime_id'])\n",
    "        ContBased_2 = ContBased_2.merge(right=genre_df,how='inner',on='anime_id')\n",
    "        ContBased_2 = pd.get_dummies(ContBased_2, columns=['type','source','rating_type']).set_index('anime_id')\n",
    "        ContBased_2 = ContBased_2.dropna(axis=0, subset=['weighted_rating'])\n",
    "        df = ContBased_2\n",
    "        anime_similarity_cos = cosine_similarity(df)\n",
    "        anime_similarity_cosdf = pd.DataFrame(anime_similarity_cos, index=df.T.columns, columns=df.T.columns)\n",
    "        return anime_similarity_cosdf\n",
    "    elif ver=='adv':\n",
    "        ContBased_3 = anime_full[['anime_id','type','source','rating_type','weighted_rating','studio','producer']]\n",
    "        vect = CountVectorizer()\n",
    "        count_vect = vect.fit_transform(anime_full['genre'])\n",
    "        features = vect.get_feature_names()\n",
    "        genre_matrix = count_vect.toarray()\n",
    "        genre_df = pd.DataFrame(genre_matrix, columns =features, index=anime_full['anime_id'])\n",
    "        top_studios = ['Studio Chizu', 'Marvy Jack', 'Bandai Namco Pictures', 'White Fox', 'Purple Cow Studio Japan', \n",
    "        'Shuka', 'Egg Firm', 'Square Enix', 'Wit Studio', 'Lay-duce', 'Studio Ghibli', 'Graphinica', 'David Production', \n",
    "        'Bridge', 'Animation Do', 'P.A. Works', 'Kyoto Animation', 'Manglobe', 'Artland', 'Hoods Drifters Studio']\n",
    "        top_producers = ['Studio Moriken', 'Quaras', 'Seikaisha', 'Mad Box', 'Forecast Communications', 'StudioRF Inc.', \n",
    "        'CIC', 'TAP', 'Miracle Robo', 'Madoka Partners', 'Animation Do', 'Studio Wombat', 'GYAO!', \n",
    "        'Shingeki no Kyojin Team', 'C &amp; I entertainment', 'Top-Insight International Co.', 'LTD.', \n",
    "        'East Japan Marketing &amp; Communications', 'Audio Highs','Banpresto']\n",
    "        for studio in top_studios:\n",
    "            ContBased_3[studio] = ContBased_3['studio'].transform(lambda x: 1 if studio in x else 0)\n",
    "        for producer in top_producers:\n",
    "            ContBased_3[producer] = ContBased_3['producer'].transform(lambda x: 1 if studio in x else 0)\n",
    "        ContBased_3 = ContBased_3.merge(right=genre_df,how='inner',on='anime_id')\n",
    "        ContBased_3 = pd.get_dummies(ContBased_3, columns=['type','source','rating_type']).set_index('anime_id')\n",
    "        ContBased_3 = ContBased_3.drop(columns=['studio','producer'])\n",
    "        ContBased_3 = ContBased_3.dropna(axis=0, subset=['weighted_rating'])\n",
    "        df = ContBased_3.copy()\n",
    "        anime_similarity_cos = cosine_similarity(df)\n",
    "        anime_similarity_cosdf = pd.DataFrame(anime_similarity_cos, index=df.T.columns, columns=df.T.columns)\n",
    "        return anime_similarity_cosdf\n",
    "    else:\n",
    "        return 'Please Select basic, genre, or adv for ver'"
   ]
  },
  {
   "cell_type": "code",
   "execution_count": 3,
   "metadata": {},
   "outputs": [],
   "source": [
    "anime_full = full_anime_df(rating_df, anime_df, anime_meta)\n",
    "sim_mat_basic = sim_mat(anime_full, ver='basic')\n",
    "sim_mat_genre = sim_mat(anime_full, ver='genre')"
   ]
  },
  {
   "cell_type": "code",
   "execution_count": 4,
   "metadata": {},
   "outputs": [],
   "source": [
    "filt = rating_df.groupby('user_id').count()['rating']\n",
    "user_ids = filt[filt>50].reset_index()['user_id'].values\n",
    "over_df = rating_df[rating_df['user_id'].isin(user_ids)]\n",
    "remaining_df = rating_df[~rating_df['user_id'].isin(user_ids)]\n",
    "over_df.groupby('user_id').count()['rating'].sort_values()\n",
    "y=over_df['user_id']\n",
    "X=over_df.drop(columns=['user_id'])"
   ]
  },
  {
   "cell_type": "code",
   "execution_count": 5,
   "metadata": {},
   "outputs": [],
   "source": [
    "anime_train, anime_test, user_train, user_test = train_test_split(X, y, test_size = 0.20, random_state = 0, stratify=y)"
   ]
  },
  {
   "cell_type": "code",
   "execution_count": 6,
   "metadata": {},
   "outputs": [
    {
     "data": {
      "text/html": [
       "<div>\n",
       "<style scoped>\n",
       "    .dataframe tbody tr th:only-of-type {\n",
       "        vertical-align: middle;\n",
       "    }\n",
       "\n",
       "    .dataframe tbody tr th {\n",
       "        vertical-align: top;\n",
       "    }\n",
       "\n",
       "    .dataframe thead th {\n",
       "        text-align: right;\n",
       "    }\n",
       "</style>\n",
       "<table border=\"1\" class=\"dataframe\">\n",
       "  <thead>\n",
       "    <tr style=\"text-align: right;\">\n",
       "      <th></th>\n",
       "      <th>anime_id</th>\n",
       "      <th>rating</th>\n",
       "      <th>user_id</th>\n",
       "    </tr>\n",
       "  </thead>\n",
       "  <tbody>\n",
       "    <tr>\n",
       "      <th>974670</th>\n",
       "      <td>1313</td>\n",
       "      <td>7</td>\n",
       "      <td>9020</td>\n",
       "    </tr>\n",
       "    <tr>\n",
       "      <th>2778851</th>\n",
       "      <td>10389</td>\n",
       "      <td>9</td>\n",
       "      <td>26106</td>\n",
       "    </tr>\n",
       "    <tr>\n",
       "      <th>1510424</th>\n",
       "      <td>18153</td>\n",
       "      <td>9</td>\n",
       "      <td>14557</td>\n",
       "    </tr>\n",
       "    <tr>\n",
       "      <th>286914</th>\n",
       "      <td>34240</td>\n",
       "      <td>9</td>\n",
       "      <td>2974</td>\n",
       "    </tr>\n",
       "    <tr>\n",
       "      <th>4842812</th>\n",
       "      <td>11433</td>\n",
       "      <td>9</td>\n",
       "      <td>46210</td>\n",
       "    </tr>\n",
       "    <tr>\n",
       "      <th>...</th>\n",
       "      <td>...</td>\n",
       "      <td>...</td>\n",
       "      <td>...</td>\n",
       "    </tr>\n",
       "    <tr>\n",
       "      <th>3003712</th>\n",
       "      <td>18679</td>\n",
       "      <td>8</td>\n",
       "      <td>27858</td>\n",
       "    </tr>\n",
       "    <tr>\n",
       "      <th>5471119</th>\n",
       "      <td>4081</td>\n",
       "      <td>8</td>\n",
       "      <td>51597</td>\n",
       "    </tr>\n",
       "    <tr>\n",
       "      <th>1941011</th>\n",
       "      <td>182</td>\n",
       "      <td>8</td>\n",
       "      <td>18848</td>\n",
       "    </tr>\n",
       "    <tr>\n",
       "      <th>4053948</th>\n",
       "      <td>902</td>\n",
       "      <td>8</td>\n",
       "      <td>38466</td>\n",
       "    </tr>\n",
       "    <tr>\n",
       "      <th>7724324</th>\n",
       "      <td>17729</td>\n",
       "      <td>7</td>\n",
       "      <td>72668</td>\n",
       "    </tr>\n",
       "  </tbody>\n",
       "</table>\n",
       "<p>1135622 rows × 3 columns</p>\n",
       "</div>"
      ],
      "text/plain": [
       "         anime_id  rating  user_id\n",
       "974670       1313       7     9020\n",
       "2778851     10389       9    26106\n",
       "1510424     18153       9    14557\n",
       "286914      34240       9     2974\n",
       "4842812     11433       9    46210\n",
       "...           ...     ...      ...\n",
       "3003712     18679       8    27858\n",
       "5471119      4081       8    51597\n",
       "1941011       182       8    18848\n",
       "4053948       902       8    38466\n",
       "7724324     17729       7    72668\n",
       "\n",
       "[1135622 rows x 3 columns]"
      ]
     },
     "execution_count": 6,
     "metadata": {},
     "output_type": "execute_result"
    }
   ],
   "source": [
    "train_over_split = pd.concat([anime_train, user_train],axis=1)\n",
    "train = pd.concat([train_over_split, remaining_df], axis=0)\n",
    "test_df2 = pd.concat([anime_test, user_test],axis=1)\n",
    "test_df2"
   ]
  },
  {
   "cell_type": "code",
   "execution_count": 19,
   "metadata": {},
   "outputs": [],
   "source": [
    "test_df = test_df2[test_df2['user_id'] != 42653]"
   ]
  },
  {
   "cell_type": "code",
   "execution_count": 20,
   "metadata": {},
   "outputs": [
    {
     "data": {
      "text/plain": [
       "user_id  anime_id\n",
       "73515    12445       1\n",
       "24563    3455        1\n",
       "         121         1\n",
       "         442         1\n",
       "         594         1\n",
       "                    ..\n",
       "49748    2904        1\n",
       "         2336        1\n",
       "         2305        1\n",
       "         2303        1\n",
       "3        170         1\n",
       "Name: rating, Length: 1135604, dtype: int64"
      ]
     },
     "execution_count": 20,
     "metadata": {},
     "output_type": "execute_result"
    }
   ],
   "source": [
    "test_df.groupby(['user_id','anime_id']).count()['rating'].sort_values(ascending=False)"
   ]
  },
  {
   "cell_type": "code",
   "execution_count": 24,
   "metadata": {},
   "outputs": [
    {
     "data": {
      "text/plain": [
       "((6337241, 3), (5674303, 3))"
      ]
     },
     "execution_count": 24,
     "metadata": {},
     "output_type": "execute_result"
    }
   ],
   "source": [
    "test_users = test_df['user_id'].unique()\n",
    "test_users = test_users[test_users!=42653]\n",
    "test_anime = test_df['anime_id'].unique()\n",
    "rating_df_red = rating_df[(rating_df['anime_id'].isin(test_anime))&(rating_df['user_id'].isin(test_users))]\n",
    "sim_mat_red_basic = sim_mat_basic.iloc[sim_mat_basic.index.isin(test_anime), sim_mat_basic.columns.isin(test_anime)]\n",
    "sim_mat_red_genre = sim_mat_genre.iloc[sim_mat_genre.index.isin(test_anime), sim_mat_genre.columns.isin(test_anime)]\n",
    "rating_df.shape, rating_df_red.shape"
   ]
  },
  {
   "cell_type": "code",
   "execution_count": 22,
   "metadata": {},
   "outputs": [],
   "source": [
    "def pred_user_rating(rating_df, sim_mat, user_id, anime_id):\n",
    "    anime_ids = rating_df[rating_df['user_id']==user_id]['anime_id'].values\n",
    "    anime_ids2 = anime_ids[anime_ids!=anime_id]\n",
    "    final_ids = anime_ids2[np.isin(anime_ids2, sim_mat.columns)]\n",
    "    sim_ids = sim_mat.loc[anime_id, sim_mat.columns.isin(final_ids)].sort_values(ascending=False)[:10].index\n",
    "    sims = sim_mat.loc[anime_id, sim_mat.columns.isin(sim_ids)]\n",
    "    ratings = rating_df[(rating_df['user_id']==user_id) & (rating_df['anime_id'].isin(sim_ids))]['rating'].values\n",
    "    pred_rating = np.sum(ratings*sims)/np.sum(sims)\n",
    "    return pred_rating"
   ]
  },
  {
   "cell_type": "code",
   "execution_count": null,
   "metadata": {},
   "outputs": [
    {
     "name": "stderr",
     "output_type": "stream",
     "text": [
      "/home/ec2-user/anaconda3/envs/python3/lib/python3.6/site-packages/ipykernel/__main__.py:8: RuntimeWarning: invalid value encountered in double_scalars\n"
     ]
    }
   ],
   "source": [
    "# # Try only with top 10 similar anime\n",
    "# import time\n",
    "# start_time = time.time()\n",
    "\n",
    "test_df['pred_basic'] = test_df.apply(lambda row: pred_user_rating(rating_df_red, sim_mat_red_basic, row['user_id'], row['anime_id']), axis=1)\n",
    "rmse_basic = np.sqrt(mean_squared_error(test_df['rating'],test_df['pred_basic']))\n",
    "print(rmse_basic)\n",
    "# print(\"--- %s seconds ---\" % (time.time() - start_time))"
   ]
  },
  {
   "cell_type": "code",
   "execution_count": null,
   "metadata": {},
   "outputs": [],
   "source": [
    "#Try only with top 10 similar anime\n",
    "# import time\n",
    "# start_time = time.time()\n",
    "\n",
    "test_df['pred_genre'] = test_df.apply(lambda row: pred_user_rating(rating_df_red, sim_mat_red_genre, row['user_id'], row['anime_id']), axis=1)\n",
    "rmse_genre = np.sqrt(mean_squared_error(test_df['rating'],test_df['pred_genre']))\n",
    "print(rmse_genre)\n",
    "# print(\"--- %s seconds ---\" % (time.time() - start_time))"
   ]
  },
  {
   "cell_type": "code",
   "execution_count": null,
   "metadata": {},
   "outputs": [],
   "source": []
  }
 ],
 "metadata": {
  "kernelspec": {
   "display_name": "conda_python3",
   "language": "python",
   "name": "conda_python3"
  },
  "language_info": {
   "codemirror_mode": {
    "name": "ipython",
    "version": 3
   },
   "file_extension": ".py",
   "mimetype": "text/x-python",
   "name": "python",
   "nbconvert_exporter": "python",
   "pygments_lexer": "ipython3",
   "version": "3.6.10"
  }
 },
 "nbformat": 4,
 "nbformat_minor": 4
}
